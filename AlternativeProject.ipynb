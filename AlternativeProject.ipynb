{
 "cells": [
  {
   "cell_type": "markdown",
   "metadata": {
    "collapsed": true,
    "pycharm": {
     "name": "#%% md\n"
    }
   },
   "source": [
    "## Project 3\n",
    "### Your assignment involves combining information from a number of SQL tables, then displaying the information in a pandas DataFrame\n",
    "### Link within pd file was broken, file extracted from peer recommended link: https://github.com/lerocha/chinook-database/tree/master/ChinookDatabase/DataSources"
   ]
  },
  {
   "cell_type": "code",
   "execution_count": 254,
   "outputs": [],
   "source": [
    "import pandas as pd\n",
    "import sqlite3"
   ],
   "metadata": {
    "collapsed": false,
    "pycharm": {
     "name": "#%%\n"
    }
   }
  },
  {
   "cell_type": "markdown",
   "source": [
    "The dataset is large so determining how many tables there are is crucial. Below we will read the date and pull out all tables."
   ],
   "metadata": {
    "collapsed": false,
    "pycharm": {
     "name": "#%% md\n"
    }
   }
  },
  {
   "cell_type": "code",
   "source": [
    "con = sqlite3.connect(r\"C:\\Users\\HP\\Downloads\\Chinook_Sqlite.sqlite\")\n",
    "tables = pd.read_sql_query(\"SELECT name FROM sqlite_master WHERE type='table' ORDER BY name;\", con)\n",
    "tables\n"
   ],
   "metadata": {
    "collapsed": false,
    "pycharm": {
     "name": "#%%\n"
    }
   },
   "execution_count": 255,
   "outputs": [
    {
     "data": {
      "text/plain": "             name\n0           Album\n1          Artist\n2        Customer\n3        Employee\n4           Genre\n5         Invoice\n6     InvoiceLine\n7       MediaType\n8        Playlist\n9   PlaylistTrack\n10          Track",
      "text/html": "<div>\n<style scoped>\n    .dataframe tbody tr th:only-of-type {\n        vertical-align: middle;\n    }\n\n    .dataframe tbody tr th {\n        vertical-align: top;\n    }\n\n    .dataframe thead th {\n        text-align: right;\n    }\n</style>\n<table border=\"1\" class=\"dataframe\">\n  <thead>\n    <tr style=\"text-align: right;\">\n      <th></th>\n      <th>name</th>\n    </tr>\n  </thead>\n  <tbody>\n    <tr>\n      <th>0</th>\n      <td>Album</td>\n    </tr>\n    <tr>\n      <th>1</th>\n      <td>Artist</td>\n    </tr>\n    <tr>\n      <th>2</th>\n      <td>Customer</td>\n    </tr>\n    <tr>\n      <th>3</th>\n      <td>Employee</td>\n    </tr>\n    <tr>\n      <th>4</th>\n      <td>Genre</td>\n    </tr>\n    <tr>\n      <th>5</th>\n      <td>Invoice</td>\n    </tr>\n    <tr>\n      <th>6</th>\n      <td>InvoiceLine</td>\n    </tr>\n    <tr>\n      <th>7</th>\n      <td>MediaType</td>\n    </tr>\n    <tr>\n      <th>8</th>\n      <td>Playlist</td>\n    </tr>\n    <tr>\n      <th>9</th>\n      <td>PlaylistTrack</td>\n    </tr>\n    <tr>\n      <th>10</th>\n      <td>Track</td>\n    </tr>\n  </tbody>\n</table>\n</div>"
     },
     "execution_count": 255,
     "metadata": {},
     "output_type": "execute_result"
    }
   ]
  },
  {
   "cell_type": "markdown",
   "source": [
    "This project only requires the display of the Customers’ Last\n",
    "Name and First Name, and each customer’s purchased Track names and\n",
    "Album Titles. We will need to pull from tables 0, 2, and 10.\n",
    "Before continuing we will preview all three tables separately."
   ],
   "metadata": {
    "collapsed": false
   }
  },
  {
   "cell_type": "code",
   "execution_count": 256,
   "outputs": [
    {
     "data": {
      "text/plain": "   AlbumId                                  Title  ArtistId\n0        1  For Those About To Rock We Salute You         1\n1        2                      Balls to the Wall         2\n2        3                      Restless and Wild         2\n3        4                      Let There Be Rock         1\n4        5                               Big Ones         3",
      "text/html": "<div>\n<style scoped>\n    .dataframe tbody tr th:only-of-type {\n        vertical-align: middle;\n    }\n\n    .dataframe tbody tr th {\n        vertical-align: top;\n    }\n\n    .dataframe thead th {\n        text-align: right;\n    }\n</style>\n<table border=\"1\" class=\"dataframe\">\n  <thead>\n    <tr style=\"text-align: right;\">\n      <th></th>\n      <th>AlbumId</th>\n      <th>Title</th>\n      <th>ArtistId</th>\n    </tr>\n  </thead>\n  <tbody>\n    <tr>\n      <th>0</th>\n      <td>1</td>\n      <td>For Those About To Rock We Salute You</td>\n      <td>1</td>\n    </tr>\n    <tr>\n      <th>1</th>\n      <td>2</td>\n      <td>Balls to the Wall</td>\n      <td>2</td>\n    </tr>\n    <tr>\n      <th>2</th>\n      <td>3</td>\n      <td>Restless and Wild</td>\n      <td>2</td>\n    </tr>\n    <tr>\n      <th>3</th>\n      <td>4</td>\n      <td>Let There Be Rock</td>\n      <td>1</td>\n    </tr>\n    <tr>\n      <th>4</th>\n      <td>5</td>\n      <td>Big Ones</td>\n      <td>3</td>\n    </tr>\n  </tbody>\n</table>\n</div>"
     },
     "execution_count": 256,
     "metadata": {},
     "output_type": "execute_result"
    }
   ],
   "source": [
    "album = pd.read_sql_query(\"SELECT * FROM Album;\", con)\n",
    "album.head()"
   ],
   "metadata": {
    "collapsed": false,
    "pycharm": {
     "name": "#%%\n"
    }
   }
  },
  {
   "cell_type": "code",
   "execution_count": 257,
   "outputs": [
    {
     "data": {
      "text/plain": "   CustomerId  FirstName     LastName  \\\n0           1       Luís    Gonçalves   \n1           2     Leonie       Köhler   \n2           3   François     Tremblay   \n3           4      Bjørn       Hansen   \n4           5  František  Wichterlová   \n\n                                            Company  \\\n0  Embraer - Empresa Brasileira de Aeronáutica S.A.   \n1                                              None   \n2                                              None   \n3                                              None   \n4                                  JetBrains s.r.o.   \n\n                           Address                 City State         Country  \\\n0  Av. Brigadeiro Faria Lima, 2170  São José dos Campos    SP          Brazil   \n1          Theodor-Heuss-Straße 34            Stuttgart  None         Germany   \n2                1498 rue Bélanger             Montréal    QC          Canada   \n3                 Ullevålsveien 14                 Oslo  None          Norway   \n4                    Klanova 9/506               Prague  None  Czech Republic   \n\n  PostalCode               Phone                 Fax  \\\n0  12227-000  +55 (12) 3923-5555  +55 (12) 3923-5566   \n1      70174    +49 0711 2842222                None   \n2    H2G 1A7   +1 (514) 721-4711                None   \n3       0171     +47 22 44 22 22                None   \n4      14700    +420 2 4172 5555    +420 2 4172 5555   \n\n                      Email  SupportRepId  \n0      luisg@embraer.com.br             3  \n1     leonekohler@surfeu.de             5  \n2       ftremblay@gmail.com             3  \n3     bjorn.hansen@yahoo.no             4  \n4  frantisekw@jetbrains.com             4  ",
      "text/html": "<div>\n<style scoped>\n    .dataframe tbody tr th:only-of-type {\n        vertical-align: middle;\n    }\n\n    .dataframe tbody tr th {\n        vertical-align: top;\n    }\n\n    .dataframe thead th {\n        text-align: right;\n    }\n</style>\n<table border=\"1\" class=\"dataframe\">\n  <thead>\n    <tr style=\"text-align: right;\">\n      <th></th>\n      <th>CustomerId</th>\n      <th>FirstName</th>\n      <th>LastName</th>\n      <th>Company</th>\n      <th>Address</th>\n      <th>City</th>\n      <th>State</th>\n      <th>Country</th>\n      <th>PostalCode</th>\n      <th>Phone</th>\n      <th>Fax</th>\n      <th>Email</th>\n      <th>SupportRepId</th>\n    </tr>\n  </thead>\n  <tbody>\n    <tr>\n      <th>0</th>\n      <td>1</td>\n      <td>Luís</td>\n      <td>Gonçalves</td>\n      <td>Embraer - Empresa Brasileira de Aeronáutica S.A.</td>\n      <td>Av. Brigadeiro Faria Lima, 2170</td>\n      <td>São José dos Campos</td>\n      <td>SP</td>\n      <td>Brazil</td>\n      <td>12227-000</td>\n      <td>+55 (12) 3923-5555</td>\n      <td>+55 (12) 3923-5566</td>\n      <td>luisg@embraer.com.br</td>\n      <td>3</td>\n    </tr>\n    <tr>\n      <th>1</th>\n      <td>2</td>\n      <td>Leonie</td>\n      <td>Köhler</td>\n      <td>None</td>\n      <td>Theodor-Heuss-Straße 34</td>\n      <td>Stuttgart</td>\n      <td>None</td>\n      <td>Germany</td>\n      <td>70174</td>\n      <td>+49 0711 2842222</td>\n      <td>None</td>\n      <td>leonekohler@surfeu.de</td>\n      <td>5</td>\n    </tr>\n    <tr>\n      <th>2</th>\n      <td>3</td>\n      <td>François</td>\n      <td>Tremblay</td>\n      <td>None</td>\n      <td>1498 rue Bélanger</td>\n      <td>Montréal</td>\n      <td>QC</td>\n      <td>Canada</td>\n      <td>H2G 1A7</td>\n      <td>+1 (514) 721-4711</td>\n      <td>None</td>\n      <td>ftremblay@gmail.com</td>\n      <td>3</td>\n    </tr>\n    <tr>\n      <th>3</th>\n      <td>4</td>\n      <td>Bjørn</td>\n      <td>Hansen</td>\n      <td>None</td>\n      <td>Ullevålsveien 14</td>\n      <td>Oslo</td>\n      <td>None</td>\n      <td>Norway</td>\n      <td>0171</td>\n      <td>+47 22 44 22 22</td>\n      <td>None</td>\n      <td>bjorn.hansen@yahoo.no</td>\n      <td>4</td>\n    </tr>\n    <tr>\n      <th>4</th>\n      <td>5</td>\n      <td>František</td>\n      <td>Wichterlová</td>\n      <td>JetBrains s.r.o.</td>\n      <td>Klanova 9/506</td>\n      <td>Prague</td>\n      <td>None</td>\n      <td>Czech Republic</td>\n      <td>14700</td>\n      <td>+420 2 4172 5555</td>\n      <td>+420 2 4172 5555</td>\n      <td>frantisekw@jetbrains.com</td>\n      <td>4</td>\n    </tr>\n  </tbody>\n</table>\n</div>"
     },
     "execution_count": 257,
     "metadata": {},
     "output_type": "execute_result"
    }
   ],
   "source": [
    "customer = pd.read_sql_query(\"SELECT * FROM Customer;\", con)\n",
    "customer.head()"
   ],
   "metadata": {
    "collapsed": false,
    "pycharm": {
     "name": "#%%\n"
    }
   }
  },
  {
   "cell_type": "code",
   "execution_count": 258,
   "outputs": [
    {
     "data": {
      "text/plain": "   TrackId                                     Name  AlbumId  MediaTypeId  \\\n0        1  For Those About To Rock (We Salute You)        1            1   \n1        2                        Balls to the Wall        2            2   \n2        3                          Fast As a Shark        3            2   \n3        4                        Restless and Wild        3            2   \n4        5                     Princess of the Dawn        3            2   \n\n   GenreId                                           Composer  Milliseconds  \\\n0        1          Angus Young, Malcolm Young, Brian Johnson        343719   \n1        1                                               None        342562   \n2        1  F. Baltes, S. Kaufman, U. Dirkscneider & W. Ho...        230619   \n3        1  F. Baltes, R.A. Smith-Diesel, S. Kaufman, U. D...        252051   \n4        1                         Deaffy & R.A. Smith-Diesel        375418   \n\n      Bytes  UnitPrice  \n0  11170334       0.99  \n1   5510424       0.99  \n2   3990994       0.99  \n3   4331779       0.99  \n4   6290521       0.99  ",
      "text/html": "<div>\n<style scoped>\n    .dataframe tbody tr th:only-of-type {\n        vertical-align: middle;\n    }\n\n    .dataframe tbody tr th {\n        vertical-align: top;\n    }\n\n    .dataframe thead th {\n        text-align: right;\n    }\n</style>\n<table border=\"1\" class=\"dataframe\">\n  <thead>\n    <tr style=\"text-align: right;\">\n      <th></th>\n      <th>TrackId</th>\n      <th>Name</th>\n      <th>AlbumId</th>\n      <th>MediaTypeId</th>\n      <th>GenreId</th>\n      <th>Composer</th>\n      <th>Milliseconds</th>\n      <th>Bytes</th>\n      <th>UnitPrice</th>\n    </tr>\n  </thead>\n  <tbody>\n    <tr>\n      <th>0</th>\n      <td>1</td>\n      <td>For Those About To Rock (We Salute You)</td>\n      <td>1</td>\n      <td>1</td>\n      <td>1</td>\n      <td>Angus Young, Malcolm Young, Brian Johnson</td>\n      <td>343719</td>\n      <td>11170334</td>\n      <td>0.99</td>\n    </tr>\n    <tr>\n      <th>1</th>\n      <td>2</td>\n      <td>Balls to the Wall</td>\n      <td>2</td>\n      <td>2</td>\n      <td>1</td>\n      <td>None</td>\n      <td>342562</td>\n      <td>5510424</td>\n      <td>0.99</td>\n    </tr>\n    <tr>\n      <th>2</th>\n      <td>3</td>\n      <td>Fast As a Shark</td>\n      <td>3</td>\n      <td>2</td>\n      <td>1</td>\n      <td>F. Baltes, S. Kaufman, U. Dirkscneider &amp; W. Ho...</td>\n      <td>230619</td>\n      <td>3990994</td>\n      <td>0.99</td>\n    </tr>\n    <tr>\n      <th>3</th>\n      <td>4</td>\n      <td>Restless and Wild</td>\n      <td>3</td>\n      <td>2</td>\n      <td>1</td>\n      <td>F. Baltes, R.A. Smith-Diesel, S. Kaufman, U. D...</td>\n      <td>252051</td>\n      <td>4331779</td>\n      <td>0.99</td>\n    </tr>\n    <tr>\n      <th>4</th>\n      <td>5</td>\n      <td>Princess of the Dawn</td>\n      <td>3</td>\n      <td>2</td>\n      <td>1</td>\n      <td>Deaffy &amp; R.A. Smith-Diesel</td>\n      <td>375418</td>\n      <td>6290521</td>\n      <td>0.99</td>\n    </tr>\n  </tbody>\n</table>\n</div>"
     },
     "execution_count": 258,
     "metadata": {},
     "output_type": "execute_result"
    }
   ],
   "source": [
    "track = pd.read_sql_query(\"SELECT * FROM Track;\", con)\n",
    "track.head()"
   ],
   "metadata": {
    "collapsed": false,
    "pycharm": {
     "name": "#%%\n"
    }
   }
  },
  {
   "cell_type": "markdown",
   "source": [
    "All the information found within the tables is not required for this project. We will pull out the required elements.\n",
    "Starting with the customer table."
   ],
   "metadata": {
    "collapsed": false
   }
  },
  {
   "cell_type": "code",
   "execution_count": 259,
   "outputs": [
    {
     "data": {
      "text/plain": "   CustomerId     LastName  FirstName\n0           1    Gonçalves       Luís\n1           2       Köhler     Leonie\n2           3     Tremblay   François\n3           4       Hansen      Bjørn\n4           5  Wichterlová  František",
      "text/html": "<div>\n<style scoped>\n    .dataframe tbody tr th:only-of-type {\n        vertical-align: middle;\n    }\n\n    .dataframe tbody tr th {\n        vertical-align: top;\n    }\n\n    .dataframe thead th {\n        text-align: right;\n    }\n</style>\n<table border=\"1\" class=\"dataframe\">\n  <thead>\n    <tr style=\"text-align: right;\">\n      <th></th>\n      <th>CustomerId</th>\n      <th>LastName</th>\n      <th>FirstName</th>\n    </tr>\n  </thead>\n  <tbody>\n    <tr>\n      <th>0</th>\n      <td>1</td>\n      <td>Gonçalves</td>\n      <td>Luís</td>\n    </tr>\n    <tr>\n      <th>1</th>\n      <td>2</td>\n      <td>Köhler</td>\n      <td>Leonie</td>\n    </tr>\n    <tr>\n      <th>2</th>\n      <td>3</td>\n      <td>Tremblay</td>\n      <td>François</td>\n    </tr>\n    <tr>\n      <th>3</th>\n      <td>4</td>\n      <td>Hansen</td>\n      <td>Bjørn</td>\n    </tr>\n    <tr>\n      <th>4</th>\n      <td>5</td>\n      <td>Wichterlová</td>\n      <td>František</td>\n    </tr>\n  </tbody>\n</table>\n</div>"
     },
     "execution_count": 259,
     "metadata": {},
     "output_type": "execute_result"
    }
   ],
   "source": [
    "df_customer = customer[['CustomerId', 'LastName', 'FirstName']]\n",
    "df_customer.head()\n",
    "#Keeping customer id for easy identification and overall appearance of data."
   ],
   "metadata": {
    "collapsed": false,
    "pycharm": {
     "name": "#%%\n"
    }
   }
  },
  {
   "cell_type": "code",
   "source": [
    "# For the track table it features a album id which identifies which album a song was featured on. We will keep that within the table.\n",
    "df_track = track[['TrackId', 'Name', 'AlbumId']]\n",
    "df_track.head()"
   ],
   "metadata": {
    "collapsed": false,
    "pycharm": {
     "name": "#%%\n"
    }
   },
   "execution_count": 260,
   "outputs": [
    {
     "data": {
      "text/plain": "   TrackId                                     Name  AlbumId\n0        1  For Those About To Rock (We Salute You)        1\n1        2                        Balls to the Wall        2\n2        3                          Fast As a Shark        3\n3        4                        Restless and Wild        3\n4        5                     Princess of the Dawn        3",
      "text/html": "<div>\n<style scoped>\n    .dataframe tbody tr th:only-of-type {\n        vertical-align: middle;\n    }\n\n    .dataframe tbody tr th {\n        vertical-align: top;\n    }\n\n    .dataframe thead th {\n        text-align: right;\n    }\n</style>\n<table border=\"1\" class=\"dataframe\">\n  <thead>\n    <tr style=\"text-align: right;\">\n      <th></th>\n      <th>TrackId</th>\n      <th>Name</th>\n      <th>AlbumId</th>\n    </tr>\n  </thead>\n  <tbody>\n    <tr>\n      <th>0</th>\n      <td>1</td>\n      <td>For Those About To Rock (We Salute You)</td>\n      <td>1</td>\n    </tr>\n    <tr>\n      <th>1</th>\n      <td>2</td>\n      <td>Balls to the Wall</td>\n      <td>2</td>\n    </tr>\n    <tr>\n      <th>2</th>\n      <td>3</td>\n      <td>Fast As a Shark</td>\n      <td>3</td>\n    </tr>\n    <tr>\n      <th>3</th>\n      <td>4</td>\n      <td>Restless and Wild</td>\n      <td>3</td>\n    </tr>\n    <tr>\n      <th>4</th>\n      <td>5</td>\n      <td>Princess of the Dawn</td>\n      <td>3</td>\n    </tr>\n  </tbody>\n</table>\n</div>"
     },
     "execution_count": 260,
     "metadata": {},
     "output_type": "execute_result"
    }
   ]
  },
  {
   "cell_type": "code",
   "execution_count": 261,
   "outputs": [
    {
     "data": {
      "text/plain": "   AlbumId                                  Title\n0        1  For Those About To Rock We Salute You\n1        2                      Balls to the Wall\n2        3                      Restless and Wild\n3        4                      Let There Be Rock\n4        5                               Big Ones",
      "text/html": "<div>\n<style scoped>\n    .dataframe tbody tr th:only-of-type {\n        vertical-align: middle;\n    }\n\n    .dataframe tbody tr th {\n        vertical-align: top;\n    }\n\n    .dataframe thead th {\n        text-align: right;\n    }\n</style>\n<table border=\"1\" class=\"dataframe\">\n  <thead>\n    <tr style=\"text-align: right;\">\n      <th></th>\n      <th>AlbumId</th>\n      <th>Title</th>\n    </tr>\n  </thead>\n  <tbody>\n    <tr>\n      <th>0</th>\n      <td>1</td>\n      <td>For Those About To Rock We Salute You</td>\n    </tr>\n    <tr>\n      <th>1</th>\n      <td>2</td>\n      <td>Balls to the Wall</td>\n    </tr>\n    <tr>\n      <th>2</th>\n      <td>3</td>\n      <td>Restless and Wild</td>\n    </tr>\n    <tr>\n      <th>3</th>\n      <td>4</td>\n      <td>Let There Be Rock</td>\n    </tr>\n    <tr>\n      <th>4</th>\n      <td>5</td>\n      <td>Big Ones</td>\n    </tr>\n  </tbody>\n</table>\n</div>"
     },
     "execution_count": 261,
     "metadata": {},
     "output_type": "execute_result"
    }
   ],
   "source": [
    "df_album = album[['AlbumId', 'Title']]\n",
    "df_album.head()\n"
   ],
   "metadata": {
    "collapsed": false,
    "pycharm": {
     "name": "#%%\n"
    }
   }
  },
  {
   "cell_type": "markdown",
   "source": [
    "To follow project requirements these three separate tables will be combined into one."
   ],
   "metadata": {
    "collapsed": false,
    "pycharm": {
     "name": "#%% md\n"
    }
   }
  },
  {
   "cell_type": "code",
   "execution_count": 262,
   "outputs": [
    {
     "data": {
      "text/plain": "   InvoiceId  CustomerId          InvoiceDate           BillingAddress  \\\n0          1           2  2009-01-01 00:00:00  Theodor-Heuss-Straße 34   \n1          2           4  2009-01-02 00:00:00         Ullevålsveien 14   \n2          3           8  2009-01-03 00:00:00          Grétrystraat 63   \n3          4          14  2009-01-06 00:00:00           8210 111 ST NW   \n4          5          23  2009-01-11 00:00:00          69 Salem Street   \n\n  BillingCity BillingState BillingCountry BillingPostalCode  Total  \n0   Stuttgart         None        Germany             70174   1.98  \n1        Oslo         None         Norway              0171   3.96  \n2    Brussels         None        Belgium              1000   5.94  \n3    Edmonton           AB         Canada           T6G 2C7   8.91  \n4      Boston           MA            USA              2113  13.86  ",
      "text/html": "<div>\n<style scoped>\n    .dataframe tbody tr th:only-of-type {\n        vertical-align: middle;\n    }\n\n    .dataframe tbody tr th {\n        vertical-align: top;\n    }\n\n    .dataframe thead th {\n        text-align: right;\n    }\n</style>\n<table border=\"1\" class=\"dataframe\">\n  <thead>\n    <tr style=\"text-align: right;\">\n      <th></th>\n      <th>InvoiceId</th>\n      <th>CustomerId</th>\n      <th>InvoiceDate</th>\n      <th>BillingAddress</th>\n      <th>BillingCity</th>\n      <th>BillingState</th>\n      <th>BillingCountry</th>\n      <th>BillingPostalCode</th>\n      <th>Total</th>\n    </tr>\n  </thead>\n  <tbody>\n    <tr>\n      <th>0</th>\n      <td>1</td>\n      <td>2</td>\n      <td>2009-01-01 00:00:00</td>\n      <td>Theodor-Heuss-Straße 34</td>\n      <td>Stuttgart</td>\n      <td>None</td>\n      <td>Germany</td>\n      <td>70174</td>\n      <td>1.98</td>\n    </tr>\n    <tr>\n      <th>1</th>\n      <td>2</td>\n      <td>4</td>\n      <td>2009-01-02 00:00:00</td>\n      <td>Ullevålsveien 14</td>\n      <td>Oslo</td>\n      <td>None</td>\n      <td>Norway</td>\n      <td>0171</td>\n      <td>3.96</td>\n    </tr>\n    <tr>\n      <th>2</th>\n      <td>3</td>\n      <td>8</td>\n      <td>2009-01-03 00:00:00</td>\n      <td>Grétrystraat 63</td>\n      <td>Brussels</td>\n      <td>None</td>\n      <td>Belgium</td>\n      <td>1000</td>\n      <td>5.94</td>\n    </tr>\n    <tr>\n      <th>3</th>\n      <td>4</td>\n      <td>14</td>\n      <td>2009-01-06 00:00:00</td>\n      <td>8210 111 ST NW</td>\n      <td>Edmonton</td>\n      <td>AB</td>\n      <td>Canada</td>\n      <td>T6G 2C7</td>\n      <td>8.91</td>\n    </tr>\n    <tr>\n      <th>4</th>\n      <td>5</td>\n      <td>23</td>\n      <td>2009-01-11 00:00:00</td>\n      <td>69 Salem Street</td>\n      <td>Boston</td>\n      <td>MA</td>\n      <td>USA</td>\n      <td>2113</td>\n      <td>13.86</td>\n    </tr>\n  </tbody>\n</table>\n</div>"
     },
     "execution_count": 262,
     "metadata": {},
     "output_type": "execute_result"
    }
   ],
   "source": [
    "#Running into a error another table will need to be implemented as to be able to merge the tables with the customer table.\n",
    "# The invoice table features the Customer ID found in the customer table. While Invoice Line has the Invoice id and track id found in the track table.\n",
    "invoice = pd.read_sql_query(\"SELECT * FROM Invoice;\", con)\n",
    "invoice.head()"
   ],
   "metadata": {
    "collapsed": false,
    "pycharm": {
     "name": "#%%\n"
    }
   }
  },
  {
   "cell_type": "code",
   "execution_count": 263,
   "outputs": [
    {
     "data": {
      "text/plain": "   InvoiceLineId  InvoiceId  TrackId  UnitPrice  Quantity\n0              1          1        2       0.99         1\n1              2          1        4       0.99         1\n2              3          2        6       0.99         1\n3              4          2        8       0.99         1\n4              5          2       10       0.99         1",
      "text/html": "<div>\n<style scoped>\n    .dataframe tbody tr th:only-of-type {\n        vertical-align: middle;\n    }\n\n    .dataframe tbody tr th {\n        vertical-align: top;\n    }\n\n    .dataframe thead th {\n        text-align: right;\n    }\n</style>\n<table border=\"1\" class=\"dataframe\">\n  <thead>\n    <tr style=\"text-align: right;\">\n      <th></th>\n      <th>InvoiceLineId</th>\n      <th>InvoiceId</th>\n      <th>TrackId</th>\n      <th>UnitPrice</th>\n      <th>Quantity</th>\n    </tr>\n  </thead>\n  <tbody>\n    <tr>\n      <th>0</th>\n      <td>1</td>\n      <td>1</td>\n      <td>2</td>\n      <td>0.99</td>\n      <td>1</td>\n    </tr>\n    <tr>\n      <th>1</th>\n      <td>2</td>\n      <td>1</td>\n      <td>4</td>\n      <td>0.99</td>\n      <td>1</td>\n    </tr>\n    <tr>\n      <th>2</th>\n      <td>3</td>\n      <td>2</td>\n      <td>6</td>\n      <td>0.99</td>\n      <td>1</td>\n    </tr>\n    <tr>\n      <th>3</th>\n      <td>4</td>\n      <td>2</td>\n      <td>8</td>\n      <td>0.99</td>\n      <td>1</td>\n    </tr>\n    <tr>\n      <th>4</th>\n      <td>5</td>\n      <td>2</td>\n      <td>10</td>\n      <td>0.99</td>\n      <td>1</td>\n    </tr>\n  </tbody>\n</table>\n</div>"
     },
     "execution_count": 263,
     "metadata": {},
     "output_type": "execute_result"
    }
   ],
   "source": [
    "invoice_line = pd.read_sql_query(\"SELECT * FROM InvoiceLine;\", con)\n",
    "invoice_line.head()"
   ],
   "metadata": {
    "collapsed": false,
    "pycharm": {
     "name": "#%%\n"
    }
   }
  },
  {
   "cell_type": "code",
   "execution_count": 264,
   "outputs": [],
   "source": [
    "df_invoice = invoice[['CustomerId', 'InvoiceId']]"
   ],
   "metadata": {
    "collapsed": false,
    "pycharm": {
     "name": "#%%\n"
    }
   }
  },
  {
   "cell_type": "code",
   "execution_count": 265,
   "outputs": [],
   "source": [
    "df_invoice_line = invoice_line[['InvoiceId', 'TrackId']]"
   ],
   "metadata": {
    "collapsed": false,
    "pycharm": {
     "name": "#%%\n"
    }
   }
  },
  {
   "cell_type": "markdown",
   "source": [
    "Merging will now successfully work."
   ],
   "metadata": {
    "collapsed": false
   }
  },
  {
   "cell_type": "code",
   "execution_count": 266,
   "outputs": [],
   "source": [
    "temp = pd.merge(df_customer, df_invoice)"
   ],
   "metadata": {
    "collapsed": false,
    "pycharm": {
     "name": "#%%\n"
    }
   }
  },
  {
   "cell_type": "code",
   "execution_count": 267,
   "outputs": [],
   "source": [
    "temp2 = pd.merge (temp, df_invoice_line)"
   ],
   "metadata": {
    "collapsed": false,
    "pycharm": {
     "name": "#%%\n"
    }
   }
  },
  {
   "cell_type": "code",
   "execution_count": 268,
   "outputs": [],
   "source": [
    "temp3 = pd.merge(temp2, df_track)"
   ],
   "metadata": {
    "collapsed": false,
    "pycharm": {
     "name": "#%%\n"
    }
   }
  },
  {
   "cell_type": "code",
   "execution_count": 269,
   "outputs": [
    {
     "data": {
      "text/plain": "   CustomerId   LastName FirstName  InvoiceId  TrackId  \\\n0           1  Gonçalves      Luís         98     3247   \n1           1  Gonçalves      Luís         98     3248   \n2          28    Barnett     Julia        311     3226   \n3          28    Barnett     Julia        311     3230   \n4          28    Barnett     Julia        311     3234   \n\n                                Name  AlbumId  \\\n0                Experiment In Terra      253   \n1                  Take the Celestra      253   \n2        Battlestar Galactica, Pt. 1      253   \n3     Lost Planet of the Gods, Pt. 2      253   \n4  The Gun On Ice Planet Zero, Pt. 2      253   \n\n                                      Title  \n0  Battlestar Galactica (Classic), Season 1  \n1  Battlestar Galactica (Classic), Season 1  \n2  Battlestar Galactica (Classic), Season 1  \n3  Battlestar Galactica (Classic), Season 1  \n4  Battlestar Galactica (Classic), Season 1  ",
      "text/html": "<div>\n<style scoped>\n    .dataframe tbody tr th:only-of-type {\n        vertical-align: middle;\n    }\n\n    .dataframe tbody tr th {\n        vertical-align: top;\n    }\n\n    .dataframe thead th {\n        text-align: right;\n    }\n</style>\n<table border=\"1\" class=\"dataframe\">\n  <thead>\n    <tr style=\"text-align: right;\">\n      <th></th>\n      <th>CustomerId</th>\n      <th>LastName</th>\n      <th>FirstName</th>\n      <th>InvoiceId</th>\n      <th>TrackId</th>\n      <th>Name</th>\n      <th>AlbumId</th>\n      <th>Title</th>\n    </tr>\n  </thead>\n  <tbody>\n    <tr>\n      <th>0</th>\n      <td>1</td>\n      <td>Gonçalves</td>\n      <td>Luís</td>\n      <td>98</td>\n      <td>3247</td>\n      <td>Experiment In Terra</td>\n      <td>253</td>\n      <td>Battlestar Galactica (Classic), Season 1</td>\n    </tr>\n    <tr>\n      <th>1</th>\n      <td>1</td>\n      <td>Gonçalves</td>\n      <td>Luís</td>\n      <td>98</td>\n      <td>3248</td>\n      <td>Take the Celestra</td>\n      <td>253</td>\n      <td>Battlestar Galactica (Classic), Season 1</td>\n    </tr>\n    <tr>\n      <th>2</th>\n      <td>28</td>\n      <td>Barnett</td>\n      <td>Julia</td>\n      <td>311</td>\n      <td>3226</td>\n      <td>Battlestar Galactica, Pt. 1</td>\n      <td>253</td>\n      <td>Battlestar Galactica (Classic), Season 1</td>\n    </tr>\n    <tr>\n      <th>3</th>\n      <td>28</td>\n      <td>Barnett</td>\n      <td>Julia</td>\n      <td>311</td>\n      <td>3230</td>\n      <td>Lost Planet of the Gods, Pt. 2</td>\n      <td>253</td>\n      <td>Battlestar Galactica (Classic), Season 1</td>\n    </tr>\n    <tr>\n      <th>4</th>\n      <td>28</td>\n      <td>Barnett</td>\n      <td>Julia</td>\n      <td>311</td>\n      <td>3234</td>\n      <td>The Gun On Ice Planet Zero, Pt. 2</td>\n      <td>253</td>\n      <td>Battlestar Galactica (Classic), Season 1</td>\n    </tr>\n  </tbody>\n</table>\n</div>"
     },
     "execution_count": 269,
     "metadata": {},
     "output_type": "execute_result"
    }
   ],
   "source": [
    "project = pd.merge(temp3, df_album)\n",
    "project.head()"
   ],
   "metadata": {
    "collapsed": false,
    "pycharm": {
     "name": "#%%\n"
    }
   }
  },
  {
   "cell_type": "markdown",
   "source": [
    "Now we will clean and shape the data table by removing any columns not required for this project."
   ],
   "metadata": {
    "collapsed": false
   }
  },
  {
   "cell_type": "code",
   "execution_count": 270,
   "outputs": [
    {
     "data": {
      "text/plain": "    LastName FirstName                       Name                Title\n52   Almeida   Roberto    Right Next Door to Hell  Use Your Illusion I\n84   Almeida   Roberto               Mateus Enter       Afrociberdelia\n85   Almeida   Roberto              Samba Do Lado       Afrociberdelia\n87   Almeida   Roberto      Um Satélite Na Cabeça       Afrociberdelia\n88   Almeida   Roberto              Amor De Muito       Afrociberdelia\n102  Almeida   Roberto  Banditismo Por Uma Questa      Da Lama Ao Caos\n103  Almeida   Roberto  Maracatu De Tiro Certeiro      Da Lama Ao Caos\n166  Almeida   Roberto                  Vai Valer         Acústico MTV\n938  Almeida   Roberto             Revolta Olodum               Olodum\n941  Almeida   Roberto     Nossa Gente (Avisa Là)               Olodum",
      "text/html": "<div>\n<style scoped>\n    .dataframe tbody tr th:only-of-type {\n        vertical-align: middle;\n    }\n\n    .dataframe tbody tr th {\n        vertical-align: top;\n    }\n\n    .dataframe thead th {\n        text-align: right;\n    }\n</style>\n<table border=\"1\" class=\"dataframe\">\n  <thead>\n    <tr style=\"text-align: right;\">\n      <th></th>\n      <th>LastName</th>\n      <th>FirstName</th>\n      <th>Name</th>\n      <th>Title</th>\n    </tr>\n  </thead>\n  <tbody>\n    <tr>\n      <th>52</th>\n      <td>Almeida</td>\n      <td>Roberto</td>\n      <td>Right Next Door to Hell</td>\n      <td>Use Your Illusion I</td>\n    </tr>\n    <tr>\n      <th>84</th>\n      <td>Almeida</td>\n      <td>Roberto</td>\n      <td>Mateus Enter</td>\n      <td>Afrociberdelia</td>\n    </tr>\n    <tr>\n      <th>85</th>\n      <td>Almeida</td>\n      <td>Roberto</td>\n      <td>Samba Do Lado</td>\n      <td>Afrociberdelia</td>\n    </tr>\n    <tr>\n      <th>87</th>\n      <td>Almeida</td>\n      <td>Roberto</td>\n      <td>Um Satélite Na Cabeça</td>\n      <td>Afrociberdelia</td>\n    </tr>\n    <tr>\n      <th>88</th>\n      <td>Almeida</td>\n      <td>Roberto</td>\n      <td>Amor De Muito</td>\n      <td>Afrociberdelia</td>\n    </tr>\n    <tr>\n      <th>102</th>\n      <td>Almeida</td>\n      <td>Roberto</td>\n      <td>Banditismo Por Uma Questa</td>\n      <td>Da Lama Ao Caos</td>\n    </tr>\n    <tr>\n      <th>103</th>\n      <td>Almeida</td>\n      <td>Roberto</td>\n      <td>Maracatu De Tiro Certeiro</td>\n      <td>Da Lama Ao Caos</td>\n    </tr>\n    <tr>\n      <th>166</th>\n      <td>Almeida</td>\n      <td>Roberto</td>\n      <td>Vai Valer</td>\n      <td>Acústico MTV</td>\n    </tr>\n    <tr>\n      <th>938</th>\n      <td>Almeida</td>\n      <td>Roberto</td>\n      <td>Revolta Olodum</td>\n      <td>Olodum</td>\n    </tr>\n    <tr>\n      <th>941</th>\n      <td>Almeida</td>\n      <td>Roberto</td>\n      <td>Nossa Gente (Avisa Là)</td>\n      <td>Olodum</td>\n    </tr>\n  </tbody>\n</table>\n</div>"
     },
     "execution_count": 270,
     "metadata": {},
     "output_type": "execute_result"
    }
   ],
   "source": [
    "df_project = project[['LastName', 'FirstName', 'Name', 'Title']].sort_values(by=['LastName', 'FirstName'])\n",
    "df_project.head(10) #preview table\n"
   ],
   "metadata": {
    "collapsed": false,
    "pycharm": {
     "name": "#%%\n"
    }
   }
  },
  {
   "cell_type": "code",
   "execution_count": 271,
   "outputs": [],
   "source": [
    "#Looks Great!\n",
    "df_project = df_project.reset_index(drop=True)\n"
   ],
   "metadata": {
    "collapsed": false,
    "pycharm": {
     "name": "#%%\n"
    }
   }
  },
  {
   "cell_type": "markdown",
   "source": [
    "Let's see the newly formatted table!\n"
   ],
   "metadata": {
    "collapsed": false,
    "pycharm": {
     "name": "#%% md\n"
    }
   }
  },
  {
   "cell_type": "code",
   "execution_count": 272,
   "outputs": [
    {
     "data": {
      "text/plain": "        LastName FirstName                     Name                    Title\n0        Almeida   Roberto  Right Next Door to Hell      Use Your Illusion I\n1        Almeida   Roberto             Mateus Enter           Afrociberdelia\n2        Almeida   Roberto            Samba Do Lado           Afrociberdelia\n3        Almeida   Roberto    Um Satélite Na Cabeça           Afrociberdelia\n4        Almeida   Roberto            Amor De Muito           Afrociberdelia\n...          ...       ...                      ...                      ...\n2235  Zimmermann      Fynn                     Açai  Djavan Ao Vivo - Vol. 1\n2236  Zimmermann      Fynn               Nem Um Dia  Djavan Ao Vivo - Vol. 1\n2237  Zimmermann      Fynn              Flor De Lis  Djavan Ao Vivo - Vol. 1\n2238  Zimmermann      Fynn                     Azul  Djavan Ao Vivo - Vol. 1\n2239  Zimmermann      Fynn     Straight Out Of Line                 Faceless\n\n[2240 rows x 4 columns]",
      "text/html": "<div>\n<style scoped>\n    .dataframe tbody tr th:only-of-type {\n        vertical-align: middle;\n    }\n\n    .dataframe tbody tr th {\n        vertical-align: top;\n    }\n\n    .dataframe thead th {\n        text-align: right;\n    }\n</style>\n<table border=\"1\" class=\"dataframe\">\n  <thead>\n    <tr style=\"text-align: right;\">\n      <th></th>\n      <th>LastName</th>\n      <th>FirstName</th>\n      <th>Name</th>\n      <th>Title</th>\n    </tr>\n  </thead>\n  <tbody>\n    <tr>\n      <th>0</th>\n      <td>Almeida</td>\n      <td>Roberto</td>\n      <td>Right Next Door to Hell</td>\n      <td>Use Your Illusion I</td>\n    </tr>\n    <tr>\n      <th>1</th>\n      <td>Almeida</td>\n      <td>Roberto</td>\n      <td>Mateus Enter</td>\n      <td>Afrociberdelia</td>\n    </tr>\n    <tr>\n      <th>2</th>\n      <td>Almeida</td>\n      <td>Roberto</td>\n      <td>Samba Do Lado</td>\n      <td>Afrociberdelia</td>\n    </tr>\n    <tr>\n      <th>3</th>\n      <td>Almeida</td>\n      <td>Roberto</td>\n      <td>Um Satélite Na Cabeça</td>\n      <td>Afrociberdelia</td>\n    </tr>\n    <tr>\n      <th>4</th>\n      <td>Almeida</td>\n      <td>Roberto</td>\n      <td>Amor De Muito</td>\n      <td>Afrociberdelia</td>\n    </tr>\n    <tr>\n      <th>...</th>\n      <td>...</td>\n      <td>...</td>\n      <td>...</td>\n      <td>...</td>\n    </tr>\n    <tr>\n      <th>2235</th>\n      <td>Zimmermann</td>\n      <td>Fynn</td>\n      <td>Açai</td>\n      <td>Djavan Ao Vivo - Vol. 1</td>\n    </tr>\n    <tr>\n      <th>2236</th>\n      <td>Zimmermann</td>\n      <td>Fynn</td>\n      <td>Nem Um Dia</td>\n      <td>Djavan Ao Vivo - Vol. 1</td>\n    </tr>\n    <tr>\n      <th>2237</th>\n      <td>Zimmermann</td>\n      <td>Fynn</td>\n      <td>Flor De Lis</td>\n      <td>Djavan Ao Vivo - Vol. 1</td>\n    </tr>\n    <tr>\n      <th>2238</th>\n      <td>Zimmermann</td>\n      <td>Fynn</td>\n      <td>Azul</td>\n      <td>Djavan Ao Vivo - Vol. 1</td>\n    </tr>\n    <tr>\n      <th>2239</th>\n      <td>Zimmermann</td>\n      <td>Fynn</td>\n      <td>Straight Out Of Line</td>\n      <td>Faceless</td>\n    </tr>\n  </tbody>\n</table>\n<p>2240 rows × 4 columns</p>\n</div>"
     },
     "execution_count": 272,
     "metadata": {},
     "output_type": "execute_result"
    }
   ],
   "source": [
    "df_project\n"
   ],
   "metadata": {
    "collapsed": false,
    "pycharm": {
     "name": "#%%\n"
    }
   }
  }
 ],
 "metadata": {
  "kernelspec": {
   "display_name": "Python 3",
   "language": "python",
   "name": "python3"
  },
  "language_info": {
   "codemirror_mode": {
    "name": "ipython",
    "version": 2
   },
   "file_extension": ".py",
   "mimetype": "text/x-python",
   "name": "python",
   "nbconvert_exporter": "python",
   "pygments_lexer": "ipython2",
   "version": "2.7.6"
  }
 },
 "nbformat": 4,
 "nbformat_minor": 0
}